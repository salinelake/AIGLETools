{
 "cells": [
  {
   "cell_type": "code",
   "execution_count": 1,
   "id": "a1bb82eb-4e75-4714-85a4-afe79a03aa6e",
   "metadata": {
    "tags": []
   },
   "outputs": [],
   "source": [
    "import numpy as np\n",
    "import torch as th\n",
    "from matplotlib import pyplot as plt\n",
    "from time import time as get_time\n",
    "from AIGLE import GLESimulator, LESimulator\n",
    "from AIGLE import AIGLE\n",
    "from AIGLE.interpolation import interpolated_fes_2d\n",
    "from AIGLE.utilities import *\n",
    "\n",
    "np.set_printoptions(precision=12)\n",
    "th.set_printoptions(precision=6)\n",
    "\n",
    "\n",
    "dev = 'cuda' if th.cuda.is_available() else 'cpu'\n",
    "def mic(x):\n",
    "    return (x+np.pi) % (2*np.pi) - np.pi\n",
    " "
   ]
  },
  {
   "cell_type": "markdown",
   "id": "15b9b804-ba44-444e-92fc-3401d53c3a06",
   "metadata": {},
   "source": [
    "## Load FES and create force engine"
   ]
  },
  {
   "cell_type": "code",
   "execution_count": 2,
   "id": "d442c6f1-e626-43e9-93ab-14ac120543b0",
   "metadata": {
    "tags": []
   },
   "outputs": [
    {
     "name": "stdout",
     "output_type": "stream",
     "text": [
      "FES min=0.0, max=16.917769247795338, unit=kbT\n"
     ]
    }
   ],
   "source": [
    "kbT2kjmol = 2.479\n",
    "free_energy = np.load('./metadynamics/biases/free_energy.npy') #kJ/mol\n",
    "free_energy -= free_energy.min()\n",
    "free_energy /= kbT2kjmol  # in unit of kbT\n",
    "free_energy = free_energy.T\n",
    "nbins = [free_energy.shape[0], free_energy.shape[1]]\n",
    "x0, y0 = -np.pi, -np.pi       ## origin of the free energy surface table\n",
    "dx = 2*np.pi / (nbins[0]-1)   ## grid size (x-direction)\n",
    "dy = 2*np.pi / (nbins[1]-1)   ## grid size (y-direction)\n",
    "interp_fes = interpolated_fes_2d(free_energy, x0,y0,dx,dy, pbc=True, use_torch=False)\n",
    "print('FES min={}, max={}, unit=kbT'.format(free_energy.min(), free_energy.max()))\n",
    "energy_upper_bound = None  ##  the trust region of free energy surface\n"
   ]
  },
  {
   "cell_type": "markdown",
   "id": "b770f6b8-1293-4de1-bf15-38dd60e44944",
   "metadata": {},
   "source": [
    "# simulate GLE"
   ]
  },
  {
   "cell_type": "code",
   "execution_count": null,
   "id": "2a861b06-d97b-47f7-be3e-1d92826fefe9",
   "metadata": {
    "tags": []
   },
   "outputs": [],
   "source": [
    "## load GLE configurations\n",
    "import json\n",
    "with open('gle_paras/model_iter_9000.json',) as f:\n",
    "    gle_config = json.load(f) \n",
    "\n",
    "np.random.seed(1234)\n",
    "## setup systems\n",
    "dt = 0.0025  #ps\n",
    "log_freq = 40\n",
    "Dt = dt * log_freq  # dump position every 0.1ps\n",
    "mass = np.array(gle_config['mass'])\n",
    "transform_matrix = np.array(gle_config['transform_matrix'])\n",
    "x0 = np.array([-2.5,2.5]).reshape(1,2)\n",
    "x0 = (x0 @ transform_matrix).flatten()\n",
    "\n",
    "## set up simulator\n",
    "simulation = GLESimulator(gle_config, timestep=dt, ndim=2, mass = mass)\n",
    "simulation.set_force_engine(interp_fes.get_force_engine(transform_matrix.T))\n",
    "simulation.set_energy_engine(interp_fes.get_energy_engine(transform_matrix.T))\n",
    "simulation.set_position(x0)\n"
   ]
  },
  {
   "cell_type": "code",
   "execution_count": null,
   "id": "2d111908-4e30-4865-be25-2607affb99f1",
   "metadata": {
    "tags": []
   },
   "outputs": [
    {
     "name": "stdout",
     "output_type": "stream",
     "text": [
      "t=0.01ns, temp=5.874775642558887, x=[[-0.815476668163  2.021945924772]]nm, v=[[-32.669540296849   8.138091668408]]rad/ps, wall time 0.00s\n"
     ]
    }
   ],
   "source": [
    "# relax\n",
    "nrelax = int(10 / dt) # relax 10ps\n",
    "simulation.step(nrelax, energy_upper_bound)\n",
    "\n",
    "## simulation\n",
    "tot_time = 2000 ## ns\n",
    "nreps = int(tot_time * 1000 / Dt)\n",
    "t0=get_time()\n",
    "x_list = []\n",
    "for idx in range(nreps):\n",
    "    simulation.step(log_freq, energy_upper_bound)\n",
    "    x_list.append( simulation.x  * 1.0)\n",
    "    if idx % int(nreps//20) == 0:\n",
    "        print('t={:.2f}ns, temp={}, x={}nm, v={}rad/ps, wall time {:.2f}s'.format(\n",
    "            simulation._step * dt/1000, \n",
    "            simulation.get_instant_temp(), \n",
    "            simulation.x.reshape(1,2) @ transform_matrix.T, \n",
    "            (simulation.p/mass).reshape(1,2) @ transform_matrix.T, \n",
    "            get_time()-t0))\n",
    "        np.save('GLE_DT100fs.npy', np.array(x_list))\n",
    "print('Done!')"
   ]
  },
  {
   "cell_type": "markdown",
   "id": "8e39fa26",
   "metadata": {},
   "source": [
    "## simulate LE"
   ]
  },
  {
   "cell_type": "code",
   "execution_count": null,
   "id": "fce25158",
   "metadata": {},
   "outputs": [],
   "source": [
    "le_simulation = simulation.get_langevin_integrator(dt)\n",
    "le_simulation.set_position(x0)\n",
    "\n",
    "# relax\n",
    "nrelax = int(10 / dt) # relax 10ps\n",
    "le_simulation.step(nrelax, energy_upper_bound)\n",
    "\n",
    "## simulation\n",
    "tot_time = 2000 ## ns\n",
    "nreps = int(tot_time * 1000 / Dt)\n",
    "t0=get_time()\n",
    "x_list = []\n",
    "for idx in range(nreps):\n",
    "    le_simulation.step(log_freq, energy_upper_bound)\n",
    "    x_list.append( le_simulation.x  * 1.0)\n",
    "    if idx % int(nreps//20) == 0:\n",
    "        print('t={:.2f}ns, temp={}, x={}nm, v={}rad/ps, wall time {:.2f}s'.format(\n",
    "            le_simulation._step * dt/1000, \n",
    "            le_simulation.get_instant_temp(), \n",
    "            le_simulation.x.reshape(1,2) @ transform_matrix.T, \n",
    "            le_simulation.v.reshape(1,2) @ transform_matrix.T, \n",
    "            get_time()-t0))\n",
    "        np.save('LE_DT100fs.npy', np.array(x_list))\n",
    "print('Done!')"
   ]
  }
 ],
 "metadata": {
  "kernelspec": {
   "display_name": "Python 3 (ipykernel)",
   "language": "python",
   "name": "python3"
  },
  "language_info": {
   "codemirror_mode": {
    "name": "ipython",
    "version": 3
   },
   "file_extension": ".py",
   "mimetype": "text/x-python",
   "name": "python",
   "nbconvert_exporter": "python",
   "pygments_lexer": "ipython3",
   "version": "3.10.13"
  }
 },
 "nbformat": 4,
 "nbformat_minor": 5
}
