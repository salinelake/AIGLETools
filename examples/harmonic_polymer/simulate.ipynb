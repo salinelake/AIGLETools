{
 "cells": [
  {
   "cell_type": "code",
   "execution_count": 1,
   "id": "a1bb82eb-4e75-4714-85a4-afe79a03aa6e",
   "metadata": {
    "tags": []
   },
   "outputs": [
    {
     "data": {
      "application/vnd.jupyter.widget-view+json": {
       "model_id": "786fcb99a2544338b66560db4112b794",
       "version_major": 2,
       "version_minor": 0
      },
      "text/plain": []
     },
     "metadata": {},
     "output_type": "display_data"
    },
    {
     "data": {
      "text/plain": [
       "0"
      ]
     },
     "execution_count": 1,
     "metadata": {},
     "output_type": "execute_result"
    }
   ],
   "source": [
    "from sys import stdout\n",
    "import numpy as np\n",
    "from matplotlib import pyplot as plt\n",
    "import mdtraj\n",
    "import openmm as mm\n",
    "from openmm.app import *\n",
    "from openmm import unit\n",
    "from openmm.app.simulation import Simulation\n",
    "from AIGLE.utilities import *\n",
    "from AIGLE.plugins import GLEIntegrator\n",
    "from AIGLE import Trajectory\n",
    "\n",
    "np.set_printoptions(precision=12)\n",
    "\n",
    "\n",
    "# Parameters\n",
    "nmain = 20\n",
    "k_main = 1000.0 * unit.kilojoule_per_mole / unit.nanometer**2   # displacement ~0.5A\n",
    "d_main = 0.3 \n",
    "temp = 300 * unit.kelvin\n",
    "kb = 8.314462618e-3 * unit.kilojoule_per_mole / unit.kelvin\n",
    "kbT = kb * temp\n",
    "\n",
    "## setup openmm system\n",
    "nm = unit.nanometer\n",
    "mass=np.ones(nmain) * 12 *  unit.amu\n",
    "# Create a system\n",
    "system = mm.System()\n",
    "topol = topology.Topology()\n",
    "chain = topol.addChain()\n",
    "init_positions = []\n",
    "indices_main = []\n",
    "\n",
    "## Add particles to the system\n",
    "for ii in range(nmain):\n",
    "    idx=system.addParticle(mass[ii])\n",
    "    indices_main.append(idx)\n",
    "    pos = np.array([ii , 0,0]) * d_main\n",
    "    init_positions.append(pos)\n",
    "    residue = topol.addResidue('R{}'.format(ii), chain)\n",
    "    topol.addAtom('C{}'.format(ii), Element.getBySymbol('C'), residue) \n",
    "\n",
    "init_positions = np.array(init_positions) * nm\n",
    "\n",
    "## Add forces\n",
    "custom_force  = mm.openmm.HarmonicBondForce()\n",
    "for ii in range(nmain-1):\n",
    "    custom_force.addBond( ii, (ii+1), d_main * nm, k_main)\n",
    "    topol.addBond( ii,  (ii+1) )\n",
    "system.addForce(custom_force )"
   ]
  },
  {
   "cell_type": "markdown",
   "id": "b770f6b8-1293-4de1-bf15-38dd60e44944",
   "metadata": {
    "tags": []
   },
   "source": [
    "# simulate GLE"
   ]
  },
  {
   "cell_type": "code",
   "execution_count": null,
   "id": "6a2057a3-e9aa-46f1-a0b9-7f4c9174f86e",
   "metadata": {
    "tags": []
   },
   "outputs": [],
   "source": [
    "## load GLE configurations\n",
    "import json\n",
    "with open('gle_paras/model_iter_9000.json',) as f:\n",
    "    gle_config = json.load(f) \n",
    "    \n",
    "dt = 0.01   #timestep [ps]\n",
    "log_freq = int(0.1/dt)   ## dump frequency\n",
    "print_freq = int(1000/dt)\n",
    "integrator = GLEIntegrator(gle_config, dt)\n",
    "\n",
    "\n",
    "## MD setup\n",
    "simulation = Simulation(topol, system, integrator)\n",
    "simulation.context.setPositions(init_positions)\n",
    "\n",
    "## relax \n",
    "simulation.step(100 / dt)\n",
    "\n",
    "## run\n",
    "simulation.reporters = [\n",
    "    mdtraj.reporters.DCDReporter(\"gle_traj_N{}.dcd\".format(nmain), log_freq),\n",
    "    StateDataReporter(stdout, print_freq, step=True, time=True, temperature=True, elapsedTime=True),\n",
    "]\n",
    "\n",
    "total_time = 100 #ns\n",
    "simulation.step(int(total_time*1000 /dt))"
   ]
  },
  {
   "cell_type": "markdown",
   "id": "b6d26fe0-2a2f-4db5-8cfd-71e97d3419da",
   "metadata": {},
   "source": [
    "# simulate LE "
   ]
  },
  {
   "cell_type": "code",
   "execution_count": null,
   "id": "993651e0-c61c-413c-b8c8-9a2a8d60ec2c",
   "metadata": {
    "tags": []
   },
   "outputs": [],
   "source": [
    "## get the LE integrator\n",
    "le_integrator = integrator.get_langevin_integrator(temp, dt )\n",
    "\n",
    "## MD setup\n",
    "le_simulation = Simulation(topol, system, le_integrator)\n",
    "le_simulation.context.setPositions(init_positions)\n",
    "\n",
    "## relax \n",
    "le_simulation.step(100 / dt)\n",
    "\n",
    "## run\n",
    "le_simulation.reporters = [\n",
    "    mdtraj.reporters.DCDReporter(\"le_traj_N{}.dcd\".format(nmain), log_freq),\n",
    "    StateDataReporter(stdout, print_freq, step=True, time=True, temperature=True, elapsedTime=True),\n",
    "]\n",
    "\n",
    "total_time = 100 #ns\n",
    "le_simulation.step(int(total_time*1000 /dt))"
   ]
  }
 ],
 "metadata": {
  "kernelspec": {
   "display_name": "Python 3 (ipykernel)",
   "language": "python",
   "name": "python3"
  },
  "language_info": {
   "codemirror_mode": {
    "name": "ipython",
    "version": 3
   },
   "file_extension": ".py",
   "mimetype": "text/x-python",
   "name": "python",
   "nbconvert_exporter": "python",
   "pygments_lexer": "ipython3",
   "version": "3.10.13"
  }
 },
 "nbformat": 4,
 "nbformat_minor": 5
}
