{
 "cells": [
  {
   "cell_type": "code",
   "execution_count": 3,
   "id": "5f74d2c2-7870-4035-be2b-334dc927145c",
   "metadata": {
    "tags": []
   },
   "outputs": [
    {
     "data": {
      "text/plain": [
       "0"
      ]
     },
     "execution_count": 3,
     "metadata": {},
     "output_type": "execute_result"
    }
   ],
   "source": [
    "from sys import stdout\n",
    "import numpy as np\n",
    "from matplotlib import pyplot as plt\n",
    "import mdtraj\n",
    "import openmm as mm\n",
    "from openmm.app import *\n",
    "from openmm import unit\n",
    "from openmm.app.simulation import Simulation\n",
    "from AIGLE.utilities import *\n",
    "\n",
    "## System Parameters\n",
    "nmain = 20  # number of backbone atoms\n",
    "nside = 5   # number of dangling atom each backbone atom is connected\n",
    "mass_M = np.ones(nmain) * 12.0 * unit.amu  ## mass of backbone atoms\n",
    "np.random.seed(1234)\n",
    "mass_S = np.random.uniform(1,20, (nmain,nside)) * unit.amu   ## mass of dangling atoms\n",
    "k_main = 1000.0 * unit.kilojoule_per_mole / unit.nanometer**2   # elastic constant for springs connecting backbone atoms\n",
    "k_side = 1000.0 * unit.kilojoule_per_mole / unit.nanometer**2   # elastic constant for springs connecting backbone atom and dangling atoms\n",
    "temp = 300 * unit.kelvin\n",
    "kbT = 2.4943387854 * unit.kilojoule_per_mole\n",
    "\n",
    "d_main = 0.3   # equilibrium length \n",
    "d_side = 0.12  # equilibrium length\n",
    "nm = unit.nanometer\n",
    "\n",
    "## Create a system in OPENMM\n",
    "system = mm.System()\n",
    "topol = topology.Topology()\n",
    "chain = topol.addChain()\n",
    "init_positions = []\n",
    "indices_main = []\n",
    "\n",
    "## Add particles to the system\n",
    "for ii in range(nmain):\n",
    "    idx=system.addParticle(mass_M[ii])\n",
    "    indices_main.append(idx)\n",
    "    pos = np.array([ii , 0,0]) * d_main\n",
    "    init_positions.append(pos)\n",
    "    residue = topol.addResidue('R{}'.format(ii), chain)\n",
    "    topol.addAtom('C{}'.format(ii), Element.getBySymbol('C'), residue)\n",
    "    for jj in range(nside):\n",
    "        system.addParticle(mass_S[ii,jj])\n",
    "        topol.addAtom('H{}-{}'.format(ii,jj), Element.getBySymbol('H'), residue )\n",
    "        \n",
    "        vec_side = np.random.randn(3)   \n",
    "        vec_side = vec_side / np.linalg.norm(vec_side)  * d_side\n",
    "        pos_side =  pos + vec_side \n",
    "        init_positions.append(pos_side)     \n",
    "init_positions = np.array(init_positions) * nm\n",
    "\n",
    "## Add harmonic forces\n",
    "custom_force  = mm.openmm.HarmonicBondForce()\n",
    "n = nside+1\n",
    "for ii in range(nmain-1):\n",
    "    custom_force.addBond( n*ii, n*(ii+1), d_main * nm, k_main)\n",
    "    topol.addBond(n*ii, n*(ii+1) )\n",
    "for ii in range(nmain):\n",
    "    for jj in range(nside):\n",
    "        custom_force.addBond( n*ii, n*ii+jj+1, d_side * nm, k_side)\n",
    "        topol.addBond(n*ii, n*ii+jj+1)  \n",
    "system.addForce(custom_force )\n",
    "\n"
   ]
  },
  {
   "cell_type": "markdown",
   "id": "5c5afe5e-5895-4696-9571-c9e66f27246c",
   "metadata": {
    "tags": []
   },
   "source": [
    "## all-atom simulation"
   ]
  },
  {
   "cell_type": "code",
   "execution_count": null,
   "id": "a5fd5275-c2ab-4df0-b1c3-7f9f7697566e",
   "metadata": {
    "tags": []
   },
   "outputs": [
    {
     "name": "stderr",
     "output_type": "stream",
     "text": [
      "/home/pinchenx/data.gpfs/envs/openmm/lib/python3.10/site-packages/mdtraj/utils/validation.py:115: TypeCastPerformanceWarning: Casting xyz dtype=float64 to <class 'numpy.float32'> \n",
      "  warnings.warn(\"Casting %s dtype=%s to %s \" % (name, val.dtype, dtype),\n"
     ]
    },
    {
     "name": "stdout",
     "output_type": "stream",
     "text": [
      "#\"Step\",\"Time (ps)\",\"Temperature (K)\",\"Elapsed Time (s)\"\n",
      "100000,200.00000000022686,324.7322065375749,0.0005104541778564453\n",
      "200000,400.00000000118183,318.9284243553818,86.83233261108398\n",
      "300000,599.9999999996356,301.96333046852874,173.67899084091187\n",
      "400000,799.9999999949063,329.9665390602021,260.5808005332947\n",
      "500000,999.9999999901769,301.1010139761089,347.5019369125366\n",
      "600000,1199.9999999854476,318.2102917199059,434.3364963531494\n",
      "700000,1399.9999999807183,312.8387377241651,521.1656339168549\n",
      "800000,1599.9999999759889,299.03125377859095,608.0263171195984\n",
      "900000,1799.9999999712595,308.3292891756772,694.8234972953796\n",
      "1000000,1999.9999999665301,300.5685644472018,781.6323909759521\n",
      "1100000,2199.9999999618008,318.6864195031414,868.4965553283691\n",
      "1200000,2399.9999999570714,311.03058302828754,955.2887661457062\n",
      "1300000,2599.999999952342,274.24146995600427,1042.146818637848\n",
      "1400000,2799.9999999476127,315.9103885829116,1129.0284309387207\n",
      "1500000,2999.9999999428833,347.4528571642634,1215.8519141674042\n",
      "1600000,3199.999999938154,317.69385938730085,1302.750947713852\n",
      "1700000,3399.9999999334245,246.7498206733938,1389.6544382572174\n",
      "1800000,3599.999999928695,272.2161417591786,1476.6500549316406\n",
      "1900000,3799.999999923966,306.11635666762754,1563.5238423347473\n",
      "2000000,3999.9999999192364,280.79438113682073,1650.3589713573456\n",
      "2100000,4199.999999938153,282.6757710668317,1737.1551291942596\n",
      "2200000,4399.999999978899,282.10739718279297,1824.0824875831604\n",
      "2300000,4600.000000019644,282.0452076757637,1911.1352140903473\n",
      "2400000,4800.0000000603895,277.75691419552356,1998.3271887302399\n",
      "2500000,5000.000000101135,296.73218957162004,2085.8834981918335\n",
      "2600000,5200.00000014188,323.50869708817055,2173.3857958316803\n",
      "2700000,5400.000000182626,342.1811583973185,2260.871699810028\n",
      "2800000,5600.000000223371,285.17814003015775,2348.553903579712\n",
      "2900000,5800.000000264116,324.8320833521054,2436.1167459487915\n",
      "3000000,6000.000000304862,343.60961500155105,2523.643935918808\n",
      "3100000,6200.000000345607,312.9937918232909,2610.9585769176483\n",
      "3200000,6400.000000386352,322.7158375062993,2698.2114605903625\n",
      "3300000,6600.000000427098,281.9830678486749,2785.4525237083435\n",
      "3400000,6800.000000467843,345.161575119763,2872.6411731243134\n",
      "3500000,7000.0000005085885,306.0346074778582,2959.7936584949493\n",
      "3600000,7200.000000549334,295.13678069651206,3046.97624540329\n",
      "3700000,7400.000000590079,287.60713285575264,3134.099215745926\n",
      "3800000,7600.000000630825,304.3167521218551,3222.891406774521\n",
      "3900000,7800.00000067157,302.3479342614838,3310.455096721649\n",
      "4000000,8000.000000712315,293.91218214848794,3397.719265937805\n",
      "4100000,8200.00000075306,292.94078388991966,3484.9878656864166\n",
      "4200000,8400.000000793805,290.1251194180776,3572.347058534622\n",
      "4400000,8800.000000875296,264.47486395474414,3747.012875318527\n",
      "4500000,9000.000000916041,267.3369280834641,3834.3057267665863\n"
     ]
    }
   ],
   "source": [
    "## NVT parameters\n",
    "temperature = 300 * unit.kelvin\n",
    "dt = 2 * unit.femtoseconds\n",
    "tau_t = 10 * unit.picosecond\n",
    "\n",
    "## MD setup\n",
    "integrator = mm.openmm.LangevinIntegrator(temperature, 1 / tau_t, dt)\n",
    "simulation = Simulation(topol, system, integrator)\n",
    "simulation.context.setPositions(init_positions)\n",
    "# simulation.minimizeEnergy()\n",
    "\n",
    "## relax \n",
    "simulation.step( 2*int(tau_t / dt) )\n",
    "\n",
    "## run\n",
    "simulation.reporters = [\n",
    "    mdtraj.reporters.DCDReporter(\"traj_N{}.dcd\".format(nmain), 1, atomSubset=indices_main ),\n",
    "    # pdbreporter.PDBReporter(\"md_data/traj_N{}.pdb\".format(nmain), 10000),\n",
    "    StateDataReporter(stdout, 100000, step=True, time=True, temperature=True, elapsedTime=True),\n",
    "]\n",
    "\n",
    "simulation.step(5000000)"
   ]
  },
  {
   "cell_type": "markdown",
   "id": "71c78540-7b0b-4be4-9462-ed8c8333ec5f",
   "metadata": {},
   "source": [
    "## Load backbone trajectory and save as numpy array"
   ]
  },
  {
   "cell_type": "code",
   "execution_count": 5,
   "id": "d7490668-55fe-4325-8be5-c674e6940587",
   "metadata": {
    "tags": []
   },
   "outputs": [],
   "source": [
    "## load trajectories of main atoms\n",
    "main_topol = mdtraj.Topology()\n",
    "chain = main_topol.add_chain()\n",
    "for ii in range(nmain):\n",
    "    residue = main_topol.add_residue('R{}'.format(ii), chain)\n",
    "    main_topol.add_atom('C{}'.format(ii), Element.getBySymbol('C'), residue) \n",
    "main_atoms = [x for x in main_topol.atoms]\n",
    "for ii in range(nmain-1):\n",
    "    main_topol.add_bond(main_atoms[ii], main_atoms[ii+1])\n",
    "\n",
    "## extract the trajectory of coarse-grained variables (backbone atoms) from the all-atom trajectory\n",
    "traj  = mdtraj.load(\"traj_N{}.dcd\".format(nmain), top=main_topol)\n",
    "np.save('traj_2fs.npy', traj.xyz)"
   ]
  },
  {
   "cell_type": "markdown",
   "id": "2a5437ed-356d-406d-8279-bff4a02c9e6d",
   "metadata": {},
   "source": [
    "## Analyze mean-squared displacement of head-tail distance"
   ]
  },
  {
   "cell_type": "code",
   "execution_count": 11,
   "id": "0d940148-6a8c-4167-9116-0eb8218b6746",
   "metadata": {
    "tags": []
   },
   "outputs": [],
   "source": [
    "from AIGLE import Trajectory\n",
    "traj = np.load('traj_2fs.npy')\n",
    "htd = traj[:,-1] - traj[:,0]   # tail coordinate - head coordinate, shape=(nframes, 3)\n",
    "\n",
    "dt=0.002\n",
    "stride = 50\n",
    "msd_dt = stride * dt\n",
    "nmax = int(100/msd_dt)  ## calculate MSD for 100ps\n",
    "cv_traj = Trajectory(htd[::stride], msd_dt)\n",
    "cv_traj.process_kinetics(transform=False)\n",
    "msd=cv_traj.compute_msd(nmax=nmax)"
   ]
  },
  {
   "cell_type": "code",
   "execution_count": 14,
   "id": "b6d189d4-7c1a-419e-8f0d-820a7f8eaab0",
   "metadata": {
    "tags": []
   },
   "outputs": [
    {
     "data": {
      "image/png": "[encoded data removed]",
      "text/plain": [
       "<Figure size 400x300 with 1 Axes>"
      ]
     },
     "metadata": {},
     "output_type": "display_data"
    }
   ],
   "source": [
    "## plot\n",
    "fig, ax = plt.subplots(1,1, figsize=(4,3))\n",
    "ax.plot(np.arange(nmax)*msd_dt, msd.sum(-1), )\n",
    "ax.fill_between(np.arange(nmax)*msd_dt, msd.sum(-1)+msd.std(-1) * 3, msd.sum(-1)-msd.std(-1) * 3, alpha=0.5)\n",
    "\n",
    "ax.set_xlabel('t[ps]')\n",
    "ax.set_ylabel(r'$\\Delta_d(t) [\\text{nm}^2]$')\n",
    "ax.set_title('Mean-squared displacement of head-tail distance')\n",
    "plt.tight_layout()"
   ]
  },
  {
   "cell_type": "code",
   "execution_count": null,
   "id": "e5156cdb-84cf-41bb-aa72-7ec40b249e48",
   "metadata": {},
   "outputs": [],
   "source": []
  }
 ],
 "metadata": {
  "kernelspec": {
   "display_name": "Python 3 (ipykernel)",
   "language": "python",
   "name": "python3"
  },
  "language_info": {
   "codemirror_mode": {
    "name": "ipython",
    "version": 3
   },
   "file_extension": ".py",
   "mimetype": "text/x-python",
   "name": "python",
   "nbconvert_exporter": "python",
   "pygments_lexer": "ipython3",
   "version": "3.10.13"
  }
 },
 "nbformat": 4,
 "nbformat_minor": 5
}
